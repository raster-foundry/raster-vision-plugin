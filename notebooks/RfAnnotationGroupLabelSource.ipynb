{
 "cells": [
  {
   "cell_type": "code",
   "execution_count": null,
   "metadata": {},
   "outputs": [],
   "source": [
    "from rf_raster_vision_plugin.label_source.rf_annotation_group_label_source import RfAnnotationGroupLabelSource\n",
    "import rf_raster_vision_plugin.raster_source.rf_layer_raster_source as rlrs\n",
    "\n",
    "from uuid import uuid4"
   ]
  },
  {
   "cell_type": "code",
   "execution_count": null,
   "metadata": {},
   "outputs": [],
   "source": [
    "refresh_token = 'YOUR REFRESH TOKEN HERE'\n",
    "\n",
    "source = rlrs.RfLayerRasterSource(\n",
    "    '71820687-526e-4203-8aab-3bf1acd5cc70', # This project is set to public\n",
    "    '3cec2bbe-bb42-4df8-9478-bc8e57ab011e', # This is the project's default layer id\n",
    "    refresh_token,\n",
    "    [1, 2, 3],\n",
    "    3,\n",
    "    '/tmp'\n",
    ")\n",
    "\n",
    "label_source = RfAnnotationGroupLabelSource(\n",
    "    '59388cf6-5105-467c-a8f3-f098055be8f0', # annotation group id\n",
    "    '71820687-526e-4203-8aab-3bf1acd5cc70', # project id\n",
    "    '3cec2bbe-bb42-4df8-9478-bc8e57ab011e', # project layer id\n",
    "    refresh_token, # refresh token\n",
    "    source.get_crs_transformer()\n",
    ")"
   ]
  },
  {
   "cell_type": "code",
   "execution_count": null,
   "metadata": {},
   "outputs": [],
   "source": [
    "labels = label_source.get_labels()\n",
    "labels"
   ]
  }
 ],
 "metadata": {
  "kernelspec": {
   "display_name": "Python 3",
   "language": "python",
   "name": "python3"
  },
  "language_info": {
   "codemirror_mode": {
    "name": "ipython",
    "version": 3
   },
   "file_extension": ".py",
   "mimetype": "text/x-python",
   "name": "python",
   "nbconvert_exporter": "python",
   "pygments_lexer": "ipython3",
   "version": "3.5.2"
  }
 },
 "nbformat": 4,
 "nbformat_minor": 2
}
