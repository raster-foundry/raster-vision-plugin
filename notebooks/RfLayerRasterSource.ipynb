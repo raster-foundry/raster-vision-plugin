{
 "cells": [
  {
   "cell_type": "code",
   "execution_count": 1,
   "metadata": {},
   "outputs": [],
   "source": [
    "import rf_raster_vision_plugin.raster_source.rf_layer_raster_source as rlrs\n",
    "import matplotlib.pyplot as plt\n",
    "import numpy as np\n",
    "from rastervision.core import Box\n",
    "%matplotlib inline"
   ]
  },
  {
   "cell_type": "code",
   "execution_count": 2,
   "metadata": {},
   "outputs": [
    {
     "name": "stderr",
     "output_type": "stream",
     "text": [
      "2019-06-21 21:03:41:rastervision.utils.files: INFO - Downloading s3://raster-prediction-api-dev-andrew/clipped-cog-damage.tif to /tmp/tmpyyza28as/s3/raster-prediction-api-dev-andrew/clipped-cog-damage.tif\n"
     ]
    }
   ],
   "source": [
    "refresh_token = '9f8wgc5x2LH8o4j2LiB_MvxE-Yp4LmjwqaL35Vi9uDlYH'\n",
    "source = rlrs.RfLayerRasterSource(\n",
    "    '71820687-526e-4203-8aab-3bf1acd5cc70', # This project is set to public\n",
    "    '3cec2bbe-bb42-4df8-9478-bc8e57ab011e', # This is the project's default layer id\n",
    "    refresh_token,\n",
    "    [1, 2, 3],\n",
    "    3,\n",
    "    '/tmp'\n",
    ")"
   ]
  },
  {
   "cell_type": "code",
   "execution_count": null,
   "metadata": {},
   "outputs": [],
   "source": []
  },
  {
   "cell_type": "code",
   "execution_count": null,
   "metadata": {},
   "outputs": [],
   "source": [
    "source.get_extent()"
   ]
  },
  {
   "cell_type": "code",
   "execution_count": null,
   "metadata": {},
   "outputs": [],
   "source": [
    "# Reading a whole tiff from the tiff extent should work\n",
    "tiff = source._get_chip(source.get_extent())"
   ]
  },
  {
   "cell_type": "code",
   "execution_count": null,
   "metadata": {},
   "outputs": [],
   "source": [
    "tiff.shape"
   ]
  },
  {
   "cell_type": "code",
   "execution_count": null,
   "metadata": {},
   "outputs": [],
   "source": [
    "# Verify that the read was successful by plotting the bands\n",
    "fig, axes = plt.subplots(2, 2, figsize=(10, 10))\n",
    "for i, ax in enumerate(axes.flatten()):\n",
    "    ax.imshow(tiff[:,:,i])\n",
    "    ax.set_title('Band ' + str(i + 1))"
   ]
  },
  {
   "cell_type": "code",
   "execution_count": null,
   "metadata": {},
   "outputs": [],
   "source": [
    "bx = Box.make_square(0, 0, 100)\n",
    "(bx.xmax, bx.xmin, bx.ymin, bx.ymax)\n",
    "# Reading a section of the tif should work\n",
    "tiff2 = source._get_chip(bx)\n",
    "# Verify that the read was successful by plotting the bands\n",
    "fig, axes = plt.subplots(2, 2, figsize=(10, 10))\n",
    "for i, ax in enumerate(axes.flatten()):\n",
    "    ax.imshow(tiff2[:,:,i])\n",
    "    ax.set_title('Band ' + str(i + 1))"
   ]
  }
 ],
 "metadata": {
  "kernelspec": {
   "display_name": "Python 3",
   "language": "python",
   "name": "python3"
  },
  "language_info": {
   "codemirror_mode": {
    "name": "ipython",
    "version": 3
   },
   "file_extension": ".py",
   "mimetype": "text/x-python",
   "name": "python",
   "nbconvert_exporter": "python",
   "pygments_lexer": "ipython3",
   "version": "3.5.2"
  }
 },
 "nbformat": 4,
 "nbformat_minor": 2
}
