{
 "cells": [
  {
   "cell_type": "code",
   "execution_count": null,
   "metadata": {},
   "outputs": [],
   "source": [
    "from rf_raster_vision_plugin.label_source.rf_annotation_group_label_source import RfAnnotationGroupLabelSource\n",
    "from rf_raster_vision_plugin.label_store.rf_annotation_group_label_store import RfAnnotationGroupLabelStore\n",
    "import rf_raster_vision_plugin.raster_source.rf_layer_raster_source as rlrs\n",
    "\n",
    "from uuid import uuid4"
   ]
  },
  {
   "cell_type": "code",
   "execution_count": null,
   "metadata": {},
   "outputs": [],
   "source": [
    "refresh_token = 'YOUR REFRESH TOKEN HERE'\n",
    "\n",
    "source = rlrs.RfLayerRasterSource(\n",
    "    '71820687-526e-4203-8aab-3bf1acd5cc70', # This project is set to public\n",
    "    '3cec2bbe-bb42-4df8-9478-bc8e57ab011e', # This is the project's default layer id\n",
    "    str(uuid4()), # annotation group id -- not yet relevant\n",
    "    refresh_token,\n",
    "    [1, 2, 3],\n",
    "    3\n",
    ")\n",
    "\n",
    "label_source = RfAnnotationGroupLabelSource(\n",
    "    '59388cf6-5105-467c-a8f3-f098055be8f0', # annotation group id\n",
    "    '71820687-526e-4203-8aab-3bf1acd5cc70', # project id\n",
    "    '3cec2bbe-bb42-4df8-9478-bc8e57ab011e', # project layer id\n",
    "    refresh_token, # refresh token\n",
    "    source.get_crs_transformer()\n",
    ")\n",
    "\n",
    "label_store = RfAnnotationGroupLabelStore(\n",
    "    'f4ce0d21-85a0-4239-b684-a8545837b106', # annotation group id -- named 'predictions'\n",
    "    '71820687-526e-4203-8aab-3bf1acd5cc70', # project id\n",
    "    '3cec2bbe-bb42-4df8-9478-bc8e57ab011e', # project layer id\n",
    "    refresh_token, # refresh token\n",
    "    source.get_crs_transformer(),\n",
    "    {'870e82d4-0063-44f4-8a14-950266b23619': 1} # from the label source example\n",
    ")"
   ]
  },
  {
   "cell_type": "code",
   "execution_count": null,
   "metadata": {},
   "outputs": [],
   "source": [
    "# The label that starts in the ground truth data\n",
    "# It's of the right type, so we'll use these labels to prove that\n",
    "# the LabelStore also works\n",
    "\n",
    "label_source.get_labels().boxlist.data"
   ]
  },
  {
   "cell_type": "code",
   "execution_count": null,
   "metadata": {},
   "outputs": [],
   "source": [
    "# Check the starting labels\n",
    "\n",
    "starting = label_store.get_labels()\n",
    "starting.boxlist.num_boxes()"
   ]
  },
  {
   "cell_type": "code",
   "execution_count": null,
   "metadata": {},
   "outputs": [],
   "source": [
    "# Save the labels from the label source to the label store\n",
    "\n",
    "label_store.save(label_source.get_labels())"
   ]
  },
  {
   "cell_type": "code",
   "execution_count": null,
   "metadata": {},
   "outputs": [],
   "source": [
    "# Get the labels in the store after we've saved to prove that they're different\n",
    "\n",
    "re_fetched = label_store.get_labels()\n",
    "re_fetched.boxlist.data"
   ]
  }
 ],
 "metadata": {
  "kernelspec": {
   "display_name": "Python 3",
   "language": "python",
   "name": "python3"
  },
  "language_info": {
   "codemirror_mode": {
    "name": "ipython",
    "version": 3
   },
   "file_extension": ".py",
   "mimetype": "text/x-python",
   "name": "python",
   "nbconvert_exporter": "python",
   "pygments_lexer": "ipython3",
   "version": "3.5.2"
  }
 },
 "nbformat": 4,
 "nbformat_minor": 2
}
